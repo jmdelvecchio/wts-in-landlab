{
 "cells": [
  {
   "cell_type": "markdown",
   "metadata": {},
   "source": [
    "My prompt: ok, i'm trying to come up with an expression for melt rate at the top of a permafrost table. right now i have \n",
    "melt rate = (1/L) * (irradiance + Ks*dT/dz + Q), where L is latent heat of fusion, irradiance is the energy coming from the sun, Ks is the thermal conductivity of the frozen soil, dT/dz is the temperature gradient in the frozen soil, and Q is some internal heat dissipation, which is either 0 or related to some water flow expression I have. I am trying to predict melt rate of the permafrost over the year at a high latitude, such that the sun isn't shining until like March, peaks in July, then goes away in like November. How can i get it so that the soil melts slowly when it's colder, faster when it's hotter, and then maybe like freezes again (negative melt rate) when the sun gets weaker again? "
   ]
  },
  {
   "cell_type": "markdown",
   "metadata": {},
   "source": [
    "Answer: Your current expression for melt rate already incorporates the major heat flux components, but it doesn't explicitly account for the phase change dynamics that govern melting and refreezing over the year. You want the melt rate to be positive when energy input is high and negative when conditions favor refreezing. Here's how you can refine the expression:\n",
    "\n",
    "Considerations:\n",
    "Seasonal Temperature and Solar Cycle: Since you're modeling high-latitude permafrost, your irradiance term should be time-dependent, e.g., modeled as a sinusoidal function representing the seasonal solar cycle.\n",
    "Nonlinear Response to Temperature: The melt rate should increase nonlinearly with temperature above 0°C and decrease (or reverse) when temperatures drop below freezing.\n",
    "Latent Heat Buffering: The system should incorporate a threshold around 0°C so that small fluctuations in temperature near freezing don't cause unrealistic instantaneous melting/freezing."
   ]
  },
  {
   "cell_type": "code",
   "execution_count": 1,
   "metadata": {},
   "outputs": [],
   "source": [
    "import numpy as np\n",
    "import matplotlib.pyplot as plt"
   ]
  },
  {
   "cell_type": "code",
   "execution_count": 2,
   "metadata": {},
   "outputs": [],
   "source": [
    "flow_speed = 1e-2\n",
    "\n",
    "slope = np.arctan(np.deg2rad(np.arange(0,90,2.5)))\n",
    "# Q_paper = 1e2\n",
    "# Q = (Q_paper * 0.001) / delta_x # turn it into kilojoules per second, and also m2 instead of m3? \n",
    "\n",
    "Q_rushlow = 13.2\n",
    "# Q = (Q_rushlow * 0.001) # turn it into kilojoules per second, \n",
    "\n",
    "rho_w = 1000\n",
    "g = 9.8\n",
    "Q_calc = (flow_speed * rho_w * g * slope)\n"
   ]
  },
  {
   "cell_type": "code",
   "execution_count": 9,
   "metadata": {},
   "outputs": [],
   "source": [
    "def melt_rate(t_seconds,\n",
    " S0=700, # This is twice as high as it should be but I couldn't get the thaw to be deep enough\n",
    "#  L=334000,\n",
    " L = 334E3 * 0.5, # ice content modulated by porosity? \n",
    "  Ks=2.73, dTdz=-20.0, Q=0, Tm=0, k=1, T_mean=-2, T_range=15, doy_shift=180,\n",
    "              \n",
    "              rho_ice=917):\n",
    "    \"\"\"\n",
    "    Computes the melt rate at the permafrost table using time in seconds.\n",
    "    t_seconds : time in seconds\n",
    "    S0 : peak solar irradiance (W/m^2)\n",
    "    L : latent heat of fusion (J/kg)\n",
    "    Ks : thermal conductivity of frozen soil (W/m*K)\n",
    "    dTdz : temperature gradient in the frozen soil (K/m)\n",
    "    Q : internal heat dissipation (W/m^2)\n",
    "    Tm : melting temperature threshold (°C)\n",
    "    k : steepness of the melting transition\n",
    "    T_mean : mean annual temperature (°C)\n",
    "    T_range : annual temperature range (°C)\n",
    "    rho_ice : density of ice (kg/m³)\n",
    "    \"\"\"\n",
    "    seconds_per_year = 365 * 86400  # Total seconds in a year\n",
    "    doy_shift_seconds = 180 * 86400  # Shift in seconds\n",
    "\n",
    "    # Seasonal solar irradiance variation (in seconds)\n",
    "    irradiance = S0 * np.cos(2 * np.pi * (t_seconds - doy_shift_seconds) / seconds_per_year)\n",
    "\n",
    "    # Seasonal temperature variation (in seconds)\n",
    "    T_surface = T_mean + (T_range / 2) * np.cos(2 * np.pi * (t_seconds - doy_shift_seconds) / seconds_per_year)\n",
    "\n",
    "    # Compute total energy flux\n",
    "    energy_flux = irradiance + Ks * dTdz + Q\n",
    "\n",
    "    # Smooth melt function using logistic function\n",
    "    melt_factor = 1 / (1 + np.exp(-k * (T_surface - Tm)))\n",
    "\n",
    "    # Convert energy flux to melt rate in meters per second\n",
    "    # PLus or minus if you care about this \"melt factor\" fudge\n",
    "    melt_rate_per_second = (energy_flux / L) #* melt_factor\n",
    "\n",
    "    # Joanmarie fix - not really interested in upward freezing due to latent heat ... unless we do? idk\n",
    "    melt_rate_per_second = np.where(melt_rate_per_second<0,0,melt_rate_per_second)\n",
    "\n",
    "    return melt_rate_per_second\n",
    "\n"
   ]
  },
  {
   "cell_type": "code",
   "execution_count": 10,
   "metadata": {},
   "outputs": [
    {
     "data": {
      "text/plain": [
       "[<matplotlib.lines.Line2D at 0x216f48bf590>]"
      ]
     },
     "execution_count": 10,
     "metadata": {},
     "output_type": "execute_result"
    },
    {
     "data": {
      "image/png": "[encoded data removed]",
      "text/plain": [
       "<Figure size 640x480 with 1 Axes>"
      ]
     },
     "metadata": {},
     "output_type": "display_data"
    }
   ],
   "source": [
    "# Simulate over a full year in seconds\n",
    "t_seconds = np.linspace(0, 365 * 86400, 365)  # One point per day, but in seconds\n",
    "melt_rates = melt_rate(t_seconds) * 86400  # Convert back to meters per day for plotting\n",
    "\n",
    "plt.plot(np.cumsum(melt_rate(t_seconds, Q=0)))\n",
    "plt.plot(np.cumsum(melt_rate(t_seconds, Q=15)))\n"
   ]
  },
  {
   "cell_type": "code",
   "execution_count": null,
   "metadata": {},
   "outputs": [],
   "source": []
  }
 ],
 "metadata": {
  "kernelspec": {
   "display_name": "ears33",
   "language": "python",
   "name": "python3"
  },
  "language_info": {
   "codemirror_mode": {
    "name": "ipython",
    "version": 3
   },
   "file_extension": ".py",
   "mimetype": "text/x-python",
   "name": "python",
   "nbconvert_exporter": "python",
   "pygments_lexer": "ipython3",
   "version": "3.11.0"
  }
 },
 "nbformat": 4,
 "nbformat_minor": 2
}
