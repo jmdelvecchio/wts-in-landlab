{
 "cells": [
  {
   "cell_type": "code",
   "execution_count": null,
   "metadata": {},
   "outputs": [],
   "source": [
    "import numpy as np\n",
    "import matplotlib.pyplot as plt\n",
    "\n",
    "from landlab import RasterModelGrid, imshow_grid\n",
    "from landlab.components import GroundwaterDupuitPercolator, FlowAccumulator\n"
   ]
  },
  {
   "cell_type": "code",
   "execution_count": null,
   "metadata": {},
   "outputs": [],
   "source": [
    "boundaries = {\"top\": \"closed\", \"left\": \"open\", \"bottom\": \"open\", \"right\": \"open\"}\n",
    "\n",
    "Nx = 101; Ny = 150; dx = 5\n",
    "mg = RasterModelGrid((Ny,Nx), xy_spacing=dx, bc=boundaries)\n",
    "z = mg.add_zeros('topographic__elevation', at='node')\n",
    "zb = mg.add_zeros('aquifer_base__elevation', at='node')\n",
    "zwt = mg.add_zeros(\"water_table__elevation\", at=\"node\")\n",
    "\n",
    "# some parameters\n",
    "b = 2 # permeable thickness m\n",
    "r = 1.0e-7 # recharge rate (constant, uniform here) m/s\n",
    "ksat = 1e-4 # hydraulic conductivity (constant, uniform here) m/s\n",
    "n = 0.1 # porosity (constant, uniform here) -- does not matter for steady state solution\n",
    "routing_method = 'MFD' # could also be 'D8' or 'Steepest'\n",
    "\n",
    "# some example parabolic hillslopes, just made up\n",
    "x = mg.x_of_node\n",
    "y = mg.y_of_node\n",
    "a = 0.0005\n",
    "z[:] = (-a*(x-np.median(x))**2 + np.max(a*(x-np.median(x))**2)) * y**2/(np.max(y**2)) + b\n",
    "# z[:] = (-a*(x-np.median(x))**2 + np.max(a*(x-np.median(x))**2)) * y**0.5/(np.max(y**0.5))  + b\n",
    "\n",
    "zb[:] = z - b # set constant permeable thickness b\n",
    "zwt[:] = z # start water table at the surface\n",
    "\n",
    "# topography\n",
    "plt.figure()\n",
    "imshow_grid(mg,z)\n",
    "plt.title('Topographic Elevation')"
   ]
  },
  {
   "cell_type": "code",
   "execution_count": null,
   "metadata": {},
   "outputs": [],
   "source": [
    "# 3D plot of the hillslope\n",
    "fig, ax = plt.subplots(subplot_kw={\"projection\": \"3d\"})\n",
    "X = x.reshape(mg.shape)\n",
    "Y = y.reshape(mg.shape)\n",
    "Z = z.reshape(mg.shape)\n",
    "# Plot the surface.\n",
    "surf = ax.plot_surface(X, Y, Z, cmap='pink',\n",
    "                       linewidth=0, antialiased=False)"
   ]
  },
  {
   "cell_type": "code",
   "execution_count": null,
   "metadata": {},
   "outputs": [],
   "source": [
    "#%% Initialize components\n",
    "\n",
    "# initialize the groundwater model\n",
    "gdp = GroundwaterDupuitPercolator(\n",
    "    mg,\n",
    "    recharge_rate=r,\n",
    "    hydraulic_conductivity=ksat,\n",
    "    porosity=n,\n",
    ")\n",
    "\n",
    "# initialize flow accumulation -- \"surface_water__specific_discharge\" is the basic runoff field\n",
    "# it records discharge at the end of the timestep. When you use the adaptive timestep solver to \n",
    "# update the gdp, you also get the field \"average_surface_water__specific_discharge\". This is the \n",
    "# average local runoff at the end of the subtimesteps that the model takes to meet stability criteria.\n",
    "fa = FlowAccumulator(\n",
    "    mg,\n",
    "    surface=\"topographic__elevation\",\n",
    "    flow_director=routing_method,\n",
    "    runoff_rate=\"surface_water__specific_discharge\",\n",
    ")"
   ]
  },
  {
   "cell_type": "code",
   "execution_count": null,
   "metadata": {},
   "outputs": [],
   "source": [
    "# %% run to steady state\n",
    "\n",
    "diff = 1\n",
    "tol = 1e-10\n",
    "while diff > tol:\n",
    "    zwt0 = zwt.copy()\n",
    "    gdp.run_with_adaptive_time_step_solver(1e5)\n",
    "    diff = np.max(zwt0-zwt)\n",
    "    print(diff)\n",
    "\n",
    "gwf = gdp.calc_gw_flux_at_node() # map groundwater flux to node (easier to plot)\n",
    "fa.run_one_step() # calculate flow directions and route surface water (if any is generated)\n"
   ]
  },
  {
   "cell_type": "code",
   "execution_count": null,
   "metadata": {},
   "outputs": [],
   "source": [
    "# %%\n",
    "plt.figure()\n",
    "imshow_grid(mg, gwf, cmap='plasma')\n",
    "plt.title('Groundwater Flux at Node')"
   ]
  },
  {
   "cell_type": "code",
   "execution_count": null,
   "metadata": {},
   "outputs": [],
   "source": [
    "plt.figure()\n",
    "imshow_grid(mg, 'surface_water__specific_discharge', cmap='viridis')\n",
    "plt.title('Local Runoff')"
   ]
  },
  {
   "cell_type": "code",
   "execution_count": null,
   "metadata": {},
   "outputs": [],
   "source": [
    "plt.figure()\n",
    "imshow_grid(mg, 'surface_water__discharge', cmap='viridis')\n",
    "plt.title('Surface Water Discharge')"
   ]
  },
  {
   "cell_type": "code",
   "execution_count": null,
   "metadata": {},
   "outputs": [],
   "source": [
    "plt.figure()\n",
    "imshow_grid(mg, (zwt-zb)/(z-zb), cmap='Blues')\n",
    "plt.title('Relative Saturated Thickness')"
   ]
  },
  {
   "cell_type": "code",
   "execution_count": null,
   "metadata": {},
   "outputs": [],
   "source": []
  }
 ],
 "metadata": {
  "kernelspec": {
   "display_name": "landlab-dev",
   "language": "python",
   "name": "python3"
  },
  "language_info": {
   "codemirror_mode": {
    "name": "ipython",
    "version": 3
   },
   "file_extension": ".py",
   "mimetype": "text/x-python",
   "name": "python",
   "nbconvert_exporter": "python",
   "pygments_lexer": "ipython3",
   "version": "3.13.0"
  }
 },
 "nbformat": 4,
 "nbformat_minor": 2
}
